{
 "cells": [
  {
   "cell_type": "code",
   "execution_count": 13,
   "id": "5d2b615e",
   "metadata": {},
   "outputs": [],
   "source": [
    "import torch\n",
    "import torch.nn as nn\n",
    "import torch.optim as optim\n",
    "import torch.utils.data\n",
    "import torch.nn.functional as F\n",
    "\n",
    "import torchvision\n",
    "from torchvision import transforms\n",
    "\n",
    "from torchsummary import summary\n",
    "\n",
    "from PIL import Image, ImageFile\n",
    "ImageFile.LOAD_TRUNCATED_IMAGES = True"
   ]
  },
  {
   "cell_type": "code",
   "execution_count": 3,
   "id": "3ed916f2",
   "metadata": {},
   "outputs": [],
   "source": [
    "def check_images(PATH):\n",
    "    try:\n",
    "        image_path = Image.open(PATH)\n",
    "        return True\n",
    "    except:\n",
    "        return False"
   ]
  },
  {
   "cell_type": "code",
   "execution_count": 4,
   "id": "18ae9db5",
   "metadata": {},
   "outputs": [],
   "source": [
    "image_transforms = transforms.Compose([\n",
    "    transforms.Resize((64, 64)),\n",
    "    transforms.ToTensor(),\n",
    "    transforms.Normalize(mean=[0.485, 0.456, 0.406], std=[0.229, 0.224, 0.225])\n",
    "])"
   ]
  },
  {
   "cell_type": "code",
   "execution_count": 8,
   "id": "8a4019bc",
   "metadata": {},
   "outputs": [],
   "source": [
    "train_data_path = './train/'\n",
    "val_data_path = './val/'\n",
    "test_data_path = './test/'\n",
    "\n",
    "batch_size = 64"
   ]
  },
  {
   "cell_type": "code",
   "execution_count": 9,
   "id": "0b500630",
   "metadata": {},
   "outputs": [],
   "source": [
    "train_data = torchvision.datasets.ImageFolder(\n",
    "    root = train_data_path,\n",
    "    transform = image_transforms,\n",
    "    is_valid_file = check_images\n",
    ")\n",
    "\n",
    "test_data = torchvision.datasets.ImageFolder(\n",
    "    root = val_data_path,\n",
    "    transform = image_transforms,\n",
    "    is_valid_file = check_images\n",
    ")\n",
    "\n",
    "val_data = torchvision.datasets.ImageFolder(\n",
    "    root = test_data_path,\n",
    "    transform = image_transforms,\n",
    "    is_valid_file = check_images\n",
    ")"
   ]
  },
  {
   "cell_type": "code",
   "execution_count": 10,
   "id": "774b1d81",
   "metadata": {},
   "outputs": [],
   "source": [
    "train_data_loader = torch.utils.data.DataLoader(\n",
    "    train_data,\n",
    "    batch_size = batch_size\n",
    ")\n",
    "\n",
    "val_data_loader = torch.utils.data.DataLoader(\n",
    "    val_data,\n",
    "    batch_size = batch_size\n",
    ")\n",
    "\n",
    "test_data_loader = torch.utils.data.DataLoader(\n",
    "    test_data,\n",
    "    batch_size = batch_size\n",
    ")"
   ]
  },
  {
   "cell_type": "code",
   "execution_count": 11,
   "id": "965e9d50",
   "metadata": {},
   "outputs": [],
   "source": [
    "class SimpleNet(nn.Module):\n",
    "    def __init__(self):\n",
    "        super(SimpleNet, self).__init__()\n",
    "        self.fc1 = nn.Linear(1000, 84)\n",
    "        self.fc2 = nn.Linear(84, 64)\n",
    "        self.fc3 = nn.Linear(64, 2)\n",
    "        \n",
    "    def forward(self, x):\n",
    "        x = x.view(-1, 1000)\n",
    "        x = F.relu(self.fc1(x))\n",
    "        x = F.relu(self.fc2(x))\n",
    "        x = self.fc3(x)\n",
    "        return x"
   ]
  },
  {
   "cell_type": "code",
   "execution_count": 16,
   "id": "1fd8c245",
   "metadata": {},
   "outputs": [
    {
     "name": "stdout",
     "output_type": "stream",
     "text": [
      "----------------------------------------------------------------\n",
      "        Layer (type)               Output Shape         Param #\n",
      "================================================================\n",
      "            Linear-1                   [-1, 84]          84,084\n",
      "            Linear-2                   [-1, 64]           5,440\n",
      "            Linear-3                    [-1, 2]             130\n",
      "================================================================\n",
      "Total params: 89,654\n",
      "Trainable params: 89,654\n",
      "Non-trainable params: 0\n",
      "----------------------------------------------------------------\n",
      "Input size (MB): 0.32\n",
      "Forward/backward pass size (MB): 0.00\n",
      "Params size (MB): 0.34\n",
      "Estimated Total Size (MB): 0.66\n",
      "----------------------------------------------------------------\n"
     ]
    }
   ],
   "source": [
    "simplenet_model = SimpleNet()\n",
    "summary(simplenet_model, (1000, 84))"
   ]
  },
  {
   "cell_type": "code",
   "execution_count": null,
   "id": "2383baea",
   "metadata": {},
   "outputs": [],
   "source": []
  },
  {
   "cell_type": "code",
   "execution_count": null,
   "id": "7b7756c4",
   "metadata": {},
   "outputs": [],
   "source": []
  }
 ],
 "metadata": {
  "kernelspec": {
   "display_name": "Python (torch)",
   "language": "python",
   "name": "torchenv"
  },
  "language_info": {
   "codemirror_mode": {
    "name": "ipython",
    "version": 3
   },
   "file_extension": ".py",
   "mimetype": "text/x-python",
   "name": "python",
   "nbconvert_exporter": "python",
   "pygments_lexer": "ipython3",
   "version": "3.8.12"
  }
 },
 "nbformat": 4,
 "nbformat_minor": 5
}
